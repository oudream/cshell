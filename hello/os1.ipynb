{
 "cells": [
  {
   "cell_type": "code",
   "execution_count": 7,
   "metadata": {},
   "outputs": [
    {
     "name": "stdout",
     "output_type": "stream",
     "text": [
      "darwin\n",
      "/ddd/cshell/hello\n",
      "['TERM_PROGRAM', 'TERM', 'SHELL', 'CLICOLOR', 'HADOOP_HOME', 'TMPDIR', 'CONDA_SHLVL', 'Apple_PubSub_Socket_Render', 'CONDA_PROMPT_MODIFIER', 'TERM_PROGRAM_VERSION', 'TERM_SESSION_ID', 'JRE_HOME', 'USER', 'CONDA_EXE', 'SSH_AUTH_SOCK', '__CF_USER_TEXT_ENCODING', '_CE_CONDA', 'LSCOLORS', 'MAVEN_HOME', 'PATH', 'CONDA_PREFIX', 'PWD', 'JAVA_HOME', 'LANG', 'ITERM_PROFILE', 'NODE_PATH', 'XPC_FLAGS', 'PS1', '_CE_M', 'XPC_SERVICE_NAME', 'M2_HOME', 'SHLVL', 'HOME', 'COLORFGBG', 'GOROOT', 'ITERM_SESSION_ID', 'CONDA_PYTHON_EXE', 'PYTHONPATH', 'LOGNAME', 'CLASSPATH', 'CONDA_DEFAULT_ENV', 'GOPATH', 'DISPLAY', 'SECURITYSESSIONID', 'COLORTERM', '_', 'JPY_PARENT_PID', 'PAGER', 'GIT_PAGER', 'MPLBACKEND', 'KEY_THAT_MIGHT_EXIST']\n",
      "---\n",
      "/bin/bash\n",
      "default_value\n",
      "default_value\n",
      "None\n",
      "None\n",
      "/Users/oudream\n",
      "None\n",
      "oudream\n",
      "None\n",
      "None\n",
      "None\n",
      "/fff/anaconda3/bin:/fff/anaconda3/bin:/fff/anaconda3/condabin:/opt/local/bin:/opt/local/sbin:/usr/local/hadoop/bin:/usr/local/bin:/usr/bin:/bin:/usr/sbin:/sbin:/Applications/VMware Fusion.app/Contents/Public:/Library/TeX/texbin:/usr/local/go/bin:/opt/X11/bin:/Applications/Wireshark.app/Contents/MacOS:/fff/apache-maven-3.5.3/bin:/usr/local/go/bin:/usr/local/mysql/bin:/ddd/cshell/tools/oudream:/Users/oudream/bin\n"
     ]
    }
   ],
   "source": [
    "import os\n",
    "import sys\n",
    "\n",
    "print(sys.platform)\n",
    "\n",
    "print(os.getcwd())\n",
    "\n",
    "# environ 环境变量\n",
    "print(list(os.environ))\n",
    "\n",
    "print('---')\n",
    "\n",
    "# using get will return `None` if a key is not present rather than raise a `KeyError`\n",
    "print(os.environ.get('SHELL'))\n",
    "\n",
    "# os.getenv is equivalent, and can also give a default value instead of `None`\n",
    "print(os.getenv('KEY_THAT_MIGHT_EXIST', 'default_value'))\n",
    "print(os.environ.setdefault('KEY_THAT_MIGHT_EXIST', 'default_value'))\n",
    "\n",
    "print(os.environ.get('BASH'))\n",
    "print(os.environ.get('CDPATH'))\n",
    "print(os.environ.get('HOME'))\n",
    "print(os.environ.get('HISTSIZE'))\n",
    "print(os.environ.get('LOGNAME'))\n",
    "print(os.environ.get('HOSTNAME'))\n",
    "print(os.environ.get('LANGUGE'))\n",
    "print(os.environ.get('MAIL'))\n",
    "print(os.environ.get('PATH'))\n",
    "\n",
    "# BASH # Bash Shell的全路径\n",
    "# CDPATH # 用于快速进入某个目录。\n",
    "# PATH # 决定了shell将到哪些目录中寻找命令或程序\n",
    "# HOME # 当前用户主目录\n",
    "# HISTSIZE # 历史记录数\n",
    "# LOGNAME # 当前用户的登录名\n",
    "# HOSTNAME # 指主机的名称\n",
    "# SHELL # 当前用户Shell类型\n",
    "# LANGUGE # 语言相关的环境变量，多语言可以修改此环境变量\n",
    "# MAIL # 当前用户的邮件存放目录\n",
    "# PS1 # 基本提示符，对于root用户是#，对于普通用户是$"
   ]
  },
  {
   "cell_type": "code",
   "execution_count": null,
   "metadata": {},
   "outputs": [],
   "source": []
  }
 ],
 "metadata": {
  "kernelspec": {
   "display_name": "Python 3",
   "language": "python",
   "name": "python3"
  },
  "language_info": {
   "codemirror_mode": {
    "name": "ipython",
    "version": 3
   },
   "file_extension": ".py",
   "mimetype": "text/x-python",
   "name": "python",
   "nbconvert_exporter": "python",
   "pygments_lexer": "ipython3",
   "version": "3.7.1"
  },
  "pycharm": {
   "stem_cell": {
    "cell_type": "raw",
    "source": [],
    "metadata": {
     "collapsed": false
    }
   }
  }
 },
 "nbformat": 4,
 "nbformat_minor": 2
}